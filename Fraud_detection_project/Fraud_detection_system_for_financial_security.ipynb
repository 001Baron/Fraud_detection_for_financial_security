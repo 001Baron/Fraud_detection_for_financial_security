{
 "cells": [
  {
   "cell_type": "markdown",
   "id": "e799984c-d71c-4d52-aa72-46c74b07662a",
   "metadata": {},
   "source": [
    "In today's digital age, financial institutions face an increasing number of sophisticated fraud attempts. As a leading financial institution, ABC Bank recognizes the critical need to protect its customers and assets from these threats. The bank's reputation and financial stability depend on its ability to swiftly and accurately identify fraudulent transactions.\r\n",
    "\r\n",
    "The objective of this project is to design an advanced fraud detection system for ABC Bank that can effectively identify and flag suspicious transactions. By leveraging the bank's extensive transactional data, including customer details, transaction history, and behavioral patterns, the system aims to detect fraudulent activities in real-time and enable the bank to take immediate action to mitigate potential financial losses.\r\n",
    "\r\n",
    "An accurate and robust fraud detection system is essential for maintaining customer trust and ensuring the security of financial transactions. This project will involve developing machine learning models and algorithms that can analyze vast amounts of data to identify patterns indicative of fraud. The system will be designed to adapt to new and evolving fraud tactics, ensuring continuous protection for the bank and its customers.\r\n",
    "\r\n",
    "By implementing this fraud detection system, ABC Bank aims to minimize financial losses, enhance customer trust, and maintain the integrity of its financial operations. This project will not only contribute to the bank's security infrastructure but also position ABC Bank as a leader in utilizing technology to combat financial fraud."
   ]
  },
  {
   "cell_type": "markdown",
   "id": "36ecfcd4-4fce-4dde-b8a2-a92946d2fb40",
   "metadata": {},
   "source": [
    "# Data Exploration and Preprocessing:"
   ]
  },
  {
   "cell_type": "code",
   "execution_count": 1,
   "id": "6fd14ba3-e0ef-4ba0-aa1b-9bbb105471a6",
   "metadata": {},
   "outputs": [],
   "source": [
    "import pandas as pd\n",
    "import matplotlib.pyplot as plt\n",
    "import seaborn as sns\n",
    "from tabulate import tabulate\n",
    "from sklearn.ensemble import RandomForestClassifier"
   ]
  },
  {
   "cell_type": "code",
   "execution_count": 2,
   "id": "e1d49594-675d-4c54-9ad0-61b9da626a40",
   "metadata": {},
   "outputs": [
    {
     "name": "stdout",
     "output_type": "stream",
     "text": [
      "+----+------------------+---------------+----------------------+------------+---------------+-----------------+\n",
      "|    |   Transaction_ID |   Customer_ID |   Transaction_Amount | Location   | Time_of_Day   |   Is_Fraudulent |\n",
      "|----+------------------+---------------+----------------------+------------+---------------+-----------------|\n",
      "|  0 |                1 |           101 |                 1000 | Mumbai     | Morning       |               0 |\n",
      "|  1 |                2 |           102 |                  500 | Delhi      | Afternoon     |               1 |\n",
      "|  2 |                3 |           103 |                 2000 | Chennai    | Evening       |               0 |\n",
      "|  3 |                4 |           104 |                  300 | Gujarat    | Morning       |               1 |\n",
      "|  4 |                5 |           105 |                  800 | Bengalore  | Afternoon     |               0 |\n",
      "|  5 |                6 |           106 |                 1500 | Mumbai     | Evening       |               1 |\n",
      "|  6 |                7 |           107 |                  400 | Delhi      | Morning       |               0 |\n",
      "|  7 |                8 |           108 |                 2500 | Chennai    | Afternoon     |               1 |\n",
      "|  8 |                9 |           109 |                  700 | Gujarat    | Evening       |               0 |\n",
      "|  9 |               10 |           110 |                 1200 | Bengalore  | Morning       |               0 |\n",
      "| 10 |               11 |           111 |                 1800 | Mumbai     | Afternoon     |               1 |\n",
      "| 11 |               12 |           112 |                 2200 | Delhi      | Evening       |               0 |\n",
      "| 12 |               13 |           113 |                  350 | Chennai    | Morning       |               1 |\n",
      "| 13 |               14 |           114 |                 3000 | Gujarat    | Afternoon     |               0 |\n",
      "| 14 |               15 |           115 |                  400 | Bengalore  | Evening       |               1 |\n",
      "| 15 |               16 |           116 |                  800 | Mumbai     | Morning       |               0 |\n",
      "| 16 |               17 |           117 |                 1300 | Delhi      | Afternoon     |               0 |\n",
      "| 17 |               18 |           118 |                 1700 | Chennai    | Evening       |               0 |\n",
      "| 18 |               19 |           119 |                  500 | Gujarat    | Morning       |               1 |\n",
      "| 19 |               20 |           120 |                  900 | Bengalore  | Afternoon     |               0 |\n",
      "+----+------------------+---------------+----------------------+------------+---------------+-----------------+\n"
     ]
    }
   ],
   "source": [
    "# Load the dataset\n",
    "df = pd.read_csv(\"Data Anaytics Project Data  - Project 2- Data .csv\")\n",
    "print(tabulate(df, headers='keys', tablefmt='psql'))"
   ]
  },
  {
   "cell_type": "code",
   "execution_count": 3,
   "id": "ca41b1d4-9697-4c2e-801a-c7a6b27735fc",
   "metadata": {},
   "outputs": [
    {
     "name": "stdout",
     "output_type": "stream",
     "text": [
      "\n",
      "Summary statistics:\n",
      "       Transaction_ID  Customer_ID  Transaction_Amount  Is_Fraudulent\n",
      "count        20.00000     20.00000           20.000000      20.000000\n",
      "mean         10.50000    110.50000         1192.500000       0.400000\n",
      "std           5.91608      5.91608          787.112478       0.502625\n",
      "min           1.00000    101.00000          300.000000       0.000000\n",
      "25%           5.75000    105.75000          500.000000       0.000000\n",
      "50%          10.50000    110.50000          950.000000       0.000000\n",
      "75%          15.25000    115.25000         1725.000000       1.000000\n",
      "max          20.00000    120.00000         3000.000000       1.000000\n",
      "\n",
      "Missing values:\n",
      "Transaction_ID        0\n",
      "Customer_ID           0\n",
      "Transaction_Amount    0\n",
      "Location              0\n",
      "Time_of_Day           0\n",
      "Is_Fraudulent         0\n",
      "dtype: int64\n"
     ]
    }
   ],
   "source": [
    "# Summary statistics\n",
    "print(\"\\nSummary statistics:\")\n",
    "print(df.describe())\n",
    "\n",
    "# Check for missing values\n",
    "print(\"\\nMissing values:\")\n",
    "print(df.isnull().sum())"
   ]
  },
  {
   "cell_type": "code",
   "execution_count": 4,
   "id": "07293682-7fab-41ab-9678-d8b9ab116f61",
   "metadata": {},
   "outputs": [
    {
     "data": {
      "image/png": "[encoded data removed]",
      "text/plain": [
       "<Figure size 1000x600 with 1 Axes>"
      ]
     },
     "metadata": {},
     "output_type": "display_data"
    }
   ],
   "source": [
    "# Transaction amount distribution\n",
    "plt.figure(figsize=(10,6))\n",
    "sns.histplot(df['Transaction_Amount'], bins=25) #sns.histplot: This function from the Seaborn library is used to create a histogram plot\n",
    "plt.title('Transaction Amount Distribution')\n",
    "plt.xlabel('Transaction Amount')\n",
    "plt.ylabel('Frequency')\n",
    "plt.show()"
   ]
  },
  {
   "cell_type": "code",
   "execution_count": 5,
   "id": "6f0e3a3c-aff0-45c3-9048-988b2ff870a3",
   "metadata": {},
   "outputs": [
    {
     "data": {
      "image/png": "[encoded data removed]",
      "text/plain": [
       "<Figure size 1000x600 with 1 Axes>"
      ]
     },
     "metadata": {},
     "output_type": "display_data"
    }
   ],
   "source": [
    "# Transaction count by location\n",
    "plt.figure(figsize=(10,6))\n",
    "sns.countplot(data=df, x='Location', hue='Is_Fraudulent')\n",
    "plt.title('Transaction Count by Location')\n",
    "plt.xlabel('Location')\n",
    "plt.ylabel('Transaction Count')\n",
    "plt.show()"
   ]
  },
  {
   "cell_type": "code",
   "execution_count": 6,
   "id": "b2e4ed02-d6a2-4ca4-bf46-a6e164c57042",
   "metadata": {},
   "outputs": [
    {
     "data": {
      "image/png": "[encoded data removed]",
      "text/plain": [
       "<Figure size 1000x600 with 1 Axes>"
      ]
     },
     "metadata": {},
     "output_type": "display_data"
    }
   ],
   "source": [
    "# Transaction count by time of day\n",
    "plt.figure(figsize=(10,6))\n",
    "sns.countplot(data=df, x='Time_of_Day', hue='Is_Fraudulent')\n",
    "plt.title('Transaction Count by Time of Day')\n",
    "plt.xlabel('Time of Day')\n",
    "plt.ylabel('Transaction Count')\n",
    "plt.show()"
   ]
  },
  {
   "cell_type": "markdown",
   "id": "3dfbb140-c9ea-40e9-817c-a52e9b334881",
   "metadata": {},
   "source": [
    "# Feature Selection and Engineering:"
   ]
  },
  {
   "cell_type": "markdown",
   "id": "b941493b-feb7-4594-b02b-ee0572cf288e",
   "metadata": {},
   "source": [
    "Identify relevant features that may indicate fraudulent activities. Engineer new features based on domain knowledge or behavioral patterns\r\n",
    "\r\n"
   ]
  },
  {
   "cell_type": "code",
   "execution_count": 7,
   "id": "81a56bb5-3133-4d09-b719-31591596f193",
   "metadata": {},
   "outputs": [],
   "source": [
    "# Map time of day to numeric values\n",
    "time_of_day_mapping = {'Morning': 0, 'Afternoon': 1, 'Evening': 2} #This line maps the values in the \"Time_of_Day\" column from categorical values ('Morning', 'Afternoon', 'Evening') to numeric values (0, 1, 2) using a dictionary.\n",
    "df['Time_of_Day'] = df['Time_of_Day'].map(time_of_day_mapping)"
   ]
  },
  {
   "cell_type": "code",
   "execution_count": 8,
   "id": "c53bf0d1-bf13-4eac-b338-cbed54aae464",
   "metadata": {},
   "outputs": [],
   "source": [
    "# Feature Engineering: Transaction frequency per customer\n",
    "df['Transaction_Frequency'] = df.groupby('Customer_ID')['Transaction_ID'].transform('count')\n",
    "# It calculates the transaction frequency per customer by counting the number of transactions for each customer."
   ]
  },
  {
   "cell_type": "code",
   "execution_count": 9,
   "id": "bac382a7-66f9-4a14-bd94-1852aaefcc8a",
   "metadata": {},
   "outputs": [],
   "source": [
    "# Transaction amount features\n",
    "#These lines calculate the average and total transaction amount per customer using the groupby() and transform() functions.\n",
    "df['Average_Transaction_Amount'] = df.groupby('Customer_ID')['Transaction_Amount'].transform('mean')\n",
    "df['Total_Transaction_Amount'] = df.groupby('Customer_ID')['Transaction_Amount'].transform('sum')"
   ]
  },
  {
   "cell_type": "code",
   "execution_count": 10,
   "id": "9884ad53-4296-4c2f-ae5f-6727851e36f6",
   "metadata": {},
   "outputs": [],
   "source": [
    "# Behavioral features\n",
    "df['Transaction_Velocity'] = df['Transaction_Frequency'] / (df['Transaction_Amount'] + 1)\n",
    "     "
   ]
  },
  {
   "cell_type": "code",
   "execution_count": 11,
   "id": "9a4803ad-1f48-4f80-a17c-9e6de7e00f0a",
   "metadata": {},
   "outputs": [
    {
     "name": "stdout",
     "output_type": "stream",
     "text": [
      "Correlation Matrix:\n",
      "                            Transaction_ID  Customer_ID  Transaction_Amount  \\\n",
      "Transaction_ID                    1.000000     1.000000            0.052274   \n",
      "Customer_ID                       1.000000     1.000000            0.052274   \n",
      "Transaction_Amount                0.052274     0.052274            1.000000   \n",
      "Time_of_Day                       0.037716     0.037716            0.416510   \n",
      "Is_Fraudulent                    -0.106199    -0.106199           -0.224829   \n",
      "Transaction_Frequency                  NaN          NaN                 NaN   \n",
      "Average_Transaction_Amount        0.052274     0.052274            1.000000   \n",
      "Total_Transaction_Amount          0.052274     0.052274            1.000000   \n",
      "Transaction_Velocity             -0.095453    -0.095453           -0.841013   \n",
      "\n",
      "                            Time_of_Day  Is_Fraudulent  Transaction_Frequency  \\\n",
      "Transaction_ID                 0.037716      -0.106199                    NaN   \n",
      "Customer_ID                    0.037716      -0.106199                    NaN   \n",
      "Transaction_Amount             0.416510      -0.224829                    NaN   \n",
      "Time_of_Day                    1.000000      -0.076102                    NaN   \n",
      "Is_Fraudulent                 -0.076102       1.000000                    NaN   \n",
      "Transaction_Frequency               NaN            NaN                    NaN   \n",
      "Average_Transaction_Amount     0.416510      -0.224829                    NaN   \n",
      "Total_Transaction_Amount       0.416510      -0.224829                    NaN   \n",
      "Transaction_Velocity          -0.444331       0.436374                    NaN   \n",
      "\n",
      "                            Average_Transaction_Amount  \\\n",
      "Transaction_ID                                0.052274   \n",
      "Customer_ID                                   0.052274   \n",
      "Transaction_Amount                            1.000000   \n",
      "Time_of_Day                                   0.416510   \n",
      "Is_Fraudulent                                -0.224829   \n",
      "Transaction_Frequency                              NaN   \n",
      "Average_Transaction_Amount                    1.000000   \n",
      "Total_Transaction_Amount                      1.000000   \n",
      "Transaction_Velocity                         -0.841013   \n",
      "\n",
      "                            Total_Transaction_Amount  Transaction_Velocity  \n",
      "Transaction_ID                              0.052274             -0.095453  \n",
      "Customer_ID                                 0.052274             -0.095453  \n",
      "Transaction_Amount                          1.000000             -0.841013  \n",
      "Time_of_Day                                 0.416510             -0.444331  \n",
      "Is_Fraudulent                              -0.224829              0.436374  \n",
      "Transaction_Frequency                            NaN                   NaN  \n",
      "Average_Transaction_Amount                  1.000000             -0.841013  \n",
      "Total_Transaction_Amount                    1.000000             -0.841013  \n",
      "Transaction_Velocity                       -0.841013              1.000000  \n"
     ]
    }
   ],
   "source": [
    "#Correlational Metrix: first selecting numeric values, calculating and printing.\n",
    "numeric_cols = df.select_dtypes(include='number').columns\n",
    "correlation_matrix = df[numeric_cols].corr()\n",
    "print(\"Correlation Matrix:\")\n",
    "print(correlation_matrix)"
   ]
  },
  {
   "cell_type": "code",
   "execution_count": 12,
   "id": "eae0c70e-ab2c-415e-be74-63dabee3dac3",
   "metadata": {},
   "outputs": [],
   "source": [
    "# Convert 'Location' column to one-hot encoding\n",
    "\n",
    "df = pd.get_dummies(df,columns=['Location'])\n",
    "\n",
    "df = pd.get_dummies(df, columns=['Time_of_Day'])\n",
    "     "
   ]
  },
  {
   "cell_type": "code",
   "execution_count": 13,
   "id": "92653b8f-020c-4a74-bc93-5ecce0f88929",
   "metadata": {},
   "outputs": [
    {
     "name": "stdout",
     "output_type": "stream",
     "text": [
      "\n",
      "Feature Importance:\n",
      "                       Feature  Importance\n",
      "2           Transaction_Amount    0.175315\n",
      "4   Average_Transaction_Amount    0.150464\n",
      "5     Total_Transaction_Amount    0.126949\n",
      "6         Transaction_Velocity    0.117718\n",
      "0               Transaction_ID    0.114200\n",
      "1                  Customer_ID    0.097206\n",
      "11             Location_Mumbai    0.047032\n",
      "13               Time_of_Day_1    0.037283\n",
      "9               Location_Delhi    0.033721\n",
      "14               Time_of_Day_2    0.029192\n",
      "10            Location_Gujarat    0.022590\n",
      "8             Location_Chennai    0.019431\n",
      "12               Time_of_Day_0    0.016711\n",
      "7           Location_Bengalore    0.012186\n",
      "3        Transaction_Frequency    0.000000\n",
      "\n",
      "Selected Features using RFE:\n",
      "Index(['Location_Bengalore', 'Location_Chennai', 'Location_Delhi',\n",
      "       'Location_Mumbai', 'Time_of_Day_2'],\n",
      "      dtype='object')\n"
     ]
    },
    {
     "name": "stderr",
     "output_type": "stream",
     "text": [
      "C:\\Users\\LENOVO\\anaconda3\\Lib\\site-packages\\sklearn\\linear_model\\_logistic.py:469: ConvergenceWarning: lbfgs failed to converge (status=1):\n",
      "STOP: TOTAL NO. of ITERATIONS REACHED LIMIT.\n",
      "\n",
      "Increase the number of iterations (max_iter) or scale the data as shown in:\n",
      "    https://scikit-learn.org/stable/modules/preprocessing.html\n",
      "Please also refer to the documentation for alternative solver options:\n",
      "    https://scikit-learn.org/stable/modules/linear_model.html#logistic-regression\n",
      "  n_iter_i = _check_optimize_result(\n",
      "C:\\Users\\LENOVO\\anaconda3\\Lib\\site-packages\\sklearn\\linear_model\\_logistic.py:469: ConvergenceWarning: lbfgs failed to converge (status=1):\n",
      "STOP: TOTAL NO. of ITERATIONS REACHED LIMIT.\n",
      "\n",
      "Increase the number of iterations (max_iter) or scale the data as shown in:\n",
      "    https://scikit-learn.org/stable/modules/preprocessing.html\n",
      "Please also refer to the documentation for alternative solver options:\n",
      "    https://scikit-learn.org/stable/modules/linear_model.html#logistic-regression\n",
      "  n_iter_i = _check_optimize_result(\n",
      "C:\\Users\\LENOVO\\anaconda3\\Lib\\site-packages\\sklearn\\linear_model\\_logistic.py:469: ConvergenceWarning: lbfgs failed to converge (status=1):\n",
      "STOP: TOTAL NO. of ITERATIONS REACHED LIMIT.\n",
      "\n",
      "Increase the number of iterations (max_iter) or scale the data as shown in:\n",
      "    https://scikit-learn.org/stable/modules/preprocessing.html\n",
      "Please also refer to the documentation for alternative solver options:\n",
      "    https://scikit-learn.org/stable/modules/linear_model.html#logistic-regression\n",
      "  n_iter_i = _check_optimize_result(\n"
     ]
    }
   ],
   "source": [
    "# Feature Importance using Random Forest\n",
    "#This code snippet performs feature importance analysis using a Random Forest classifier and then applies Recursive Feature Elimination (RFE) with a Logistic Regression model to select the most relevant features.\n",
    "from sklearn.ensemble import RandomForestClassifier\n",
    "\n",
    "X = df.drop('Is_Fraudulent', axis=1)\n",
    "y = df['Is_Fraudulent']\n",
    "\n",
    "model = RandomForestClassifier()\n",
    "model.fit(X, y)\n",
    "\n",
    "feature_importance = pd.DataFrame({\n",
    "    'Feature': X.columns,\n",
    "    'Importance': model.feature_importances_\n",
    "})\n",
    "\n",
    "feature_importance = feature_importance.sort_values(by='Importance', ascending=False)\n",
    "print(\"\\nFeature Importance:\")\n",
    "print(feature_importance)\n",
    "\n",
    "# Recursive Feature Elimination (RFE)\n",
    "from sklearn.feature_selection import RFE\n",
    "from sklearn.linear_model import LogisticRegression\n",
    "\n",
    "model = LogisticRegression()\n",
    "rfe = RFE(model, n_features_to_select=5)\n",
    "fit = rfe.fit(X, y)\n",
    "\n",
    "print(\"\\nSelected Features using RFE:\")\n",
    "print(X.columns[fit.support_])"
   ]
  },
  {
   "cell_type": "markdown",
   "id": "6d1adbc7-47db-4da5-80e9-05da429c63ea",
   "metadata": {},
   "source": [
    "# Model Selection and Training:\r\n"
   ]
  },
  {
   "cell_type": "markdown",
   "id": "c2bee23f-8bbf-47eb-ace2-f1afde82bf6a",
   "metadata": {},
   "source": [
    "Model selection involves choosing the appropriate machine learning algorithm for the task at hand. In this case, we chose a Random Forest Classifier, which is a popular choice for classification tasks.\r\n",
    "\r\n"
   ]
  },
  {
   "cell_type": "code",
   "execution_count": 14,
   "id": "64b49664-c9b5-4d15-8599-f0fdd0730999",
   "metadata": {},
   "outputs": [],
   "source": [
    "from sklearn.model_selection import train_test_split\n",
    "from sklearn.ensemble import RandomForestClassifier\n",
    "from sklearn.metrics import classification_report, confusion_matrix"
   ]
  },
  {
   "cell_type": "code",
   "execution_count": 15,
   "id": "292f6294-466f-4891-9fb9-69a1a464cbcc",
   "metadata": {},
   "outputs": [],
   "source": [
    "# Split data into features and target variable\n",
    "X = df.drop('Is_Fraudulent', axis=1)\n",
    "y = df['Is_Fraudulent']\n",
    "\n",
    "#We separate the features (X) from the target variable (y).\n",
    "#X contains all columns except the 'Is_Fraudulent' column.\n",
    "#y contains only the 'Is_Fraudulent' column."
   ]
  },
  {
   "cell_type": "code",
   "execution_count": 16,
   "id": "78d22877-4b62-46c1-804b-077bb1e67534",
   "metadata": {},
   "outputs": [],
   "source": [
    "# Split data into train and test sets\n",
    "X_train, X_test, y_train, y_test = train_test_split(X, y, test_size=0.2, random_state=42)\n",
    "#We split the data into training and testing sets using train_test_split() function from sklearn.model_selection.\n",
    "#test_size=0.2 specifies that 20% of the data will be used for testing, and the rest for training.\n",
    "#random_state=42 is used to ensure reproducibility of the split."
   ]
  },
  {
   "cell_type": "code",
   "execution_count": 17,
   "id": "ad235b98-2532-4679-889d-5d89b9be961a",
   "metadata": {},
   "outputs": [
    {
     "data": {
      "text/html": [
       "<style>#sk-container-id-1 {\n",
       "  /* Definition of color scheme common for light and dark mode */\n",
       "  --sklearn-color-text: black;\n",
       "  --sklearn-color-line: gray;\n",
       "  /* Definition of color scheme for unfitted estimators */\n",
       "  --sklearn-color-unfitted-level-0: #fff5e6;\n",
       "  --sklearn-color-unfitted-level-1: #f6e4d2;\n",
       "  --sklearn-color-unfitted-level-2: #ffe0b3;\n",
       "  --sklearn-color-unfitted-level-3: chocolate;\n",
       "  /* Definition of color scheme for fitted estimators */\n",
       "  --sklearn-color-fitted-level-0: #f0f8ff;\n",
       "  --sklearn-color-fitted-level-1: #d4ebff;\n",
       "  --sklearn-color-fitted-level-2: #b3dbfd;\n",
       "  --sklearn-color-fitted-level-3: cornflowerblue;\n",
       "\n",
       "  /* Specific color for light theme */\n",
       "  --sklearn-color-text-on-default-background: var(--sg-text-color, var(--theme-code-foreground, var(--jp-content-font-color1, black)));\n",
       "  --sklearn-color-background: var(--sg-background-color, var(--theme-background, var(--jp-layout-color0, white)));\n",
       "  --sklearn-color-border-box: var(--sg-text-color, var(--theme-code-foreground, var(--jp-content-font-color1, black)));\n",
       "  --sklearn-color-icon: #696969;\n",
       "\n",
       "  @media (prefers-color-scheme: dark) {\n",
       "    /* Redefinition of color scheme for dark theme */\n",
       "    --sklearn-color-text-on-default-background: var(--sg-text-color, var(--theme-code-foreground, var(--jp-content-font-color1, white)));\n",
       "    --sklearn-color-background: var(--sg-background-color, var(--theme-background, var(--jp-layout-color0, #111)));\n",
       "    --sklearn-color-border-box: var(--sg-text-color, var(--theme-code-foreground, var(--jp-content-font-color1, white)));\n",
       "    --sklearn-color-icon: #878787;\n",
       "  }\n",
       "}\n",
       "\n",
       "#sk-container-id-1 {\n",
       "  color: var(--sklearn-color-text);\n",
       "}\n",
       "\n",
       "#sk-container-id-1 pre {\n",
       "  padding: 0;\n",
       "}\n",
       "\n",
       "#sk-container-id-1 input.sk-hidden--visually {\n",
       "  border: 0;\n",
       "  clip: rect(1px 1px 1px 1px);\n",
       "  clip: rect(1px, 1px, 1px, 1px);\n",
       "  height: 1px;\n",
       "  margin: -1px;\n",
       "  overflow: hidden;\n",
       "  padding: 0;\n",
       "  position: absolute;\n",
       "  width: 1px;\n",
       "}\n",
       "\n",
       "#sk-container-id-1 div.sk-dashed-wrapped {\n",
       "  border: 1px dashed var(--sklearn-color-line);\n",
       "  margin: 0 0.4em 0.5em 0.4em;\n",
       "  box-sizing: border-box;\n",
       "  padding-bottom: 0.4em;\n",
       "  background-color: var(--sklearn-color-background);\n",
       "}\n",
       "\n",
       "#sk-container-id-1 div.sk-container {\n",
       "  /* jupyter's `normalize.less` sets `[hidden] { display: none; }`\n",
       "     but bootstrap.min.css set `[hidden] { display: none !important; }`\n",
       "     so we also need the `!important` here to be able to override the\n",
       "     default hidden behavior on the sphinx rendered scikit-learn.org.\n",
       "     See: https://github.com/scikit-learn/scikit-learn/issues/21755 */\n",
       "  display: inline-block !important;\n",
       "  position: relative;\n",
       "}\n",
       "\n",
       "#sk-container-id-1 div.sk-text-repr-fallback {\n",
       "  display: none;\n",
       "}\n",
       "\n",
       "div.sk-parallel-item,\n",
       "div.sk-serial,\n",
       "div.sk-item {\n",
       "  /* draw centered vertical line to link estimators */\n",
       "  background-image: linear-gradient(var(--sklearn-color-text-on-default-background), var(--sklearn-color-text-on-default-background));\n",
       "  background-size: 2px 100%;\n",
       "  background-repeat: no-repeat;\n",
       "  background-position: center center;\n",
       "}\n",
       "\n",
       "/* Parallel-specific style estimator block */\n",
       "\n",
       "#sk-container-id-1 div.sk-parallel-item::after {\n",
       "  content: \"\";\n",
       "  width: 100%;\n",
       "  border-bottom: 2px solid var(--sklearn-color-text-on-default-background);\n",
       "  flex-grow: 1;\n",
       "}\n",
       "\n",
       "#sk-container-id-1 div.sk-parallel {\n",
       "  display: flex;\n",
       "  align-items: stretch;\n",
       "  justify-content: center;\n",
       "  background-color: var(--sklearn-color-background);\n",
       "  position: relative;\n",
       "}\n",
       "\n",
       "#sk-container-id-1 div.sk-parallel-item {\n",
       "  display: flex;\n",
       "  flex-direction: column;\n",
       "}\n",
       "\n",
       "#sk-container-id-1 div.sk-parallel-item:first-child::after {\n",
       "  align-self: flex-end;\n",
       "  width: 50%;\n",
       "}\n",
       "\n",
       "#sk-container-id-1 div.sk-parallel-item:last-child::after {\n",
       "  align-self: flex-start;\n",
       "  width: 50%;\n",
       "}\n",
       "\n",
       "#sk-container-id-1 div.sk-parallel-item:only-child::after {\n",
       "  width: 0;\n",
       "}\n",
       "\n",
       "/* Serial-specific style estimator block */\n",
       "\n",
       "#sk-container-id-1 div.sk-serial {\n",
       "  display: flex;\n",
       "  flex-direction: column;\n",
       "  align-items: center;\n",
       "  background-color: var(--sklearn-color-background);\n",
       "  padding-right: 1em;\n",
       "  padding-left: 1em;\n",
       "}\n",
       "\n",
       "\n",
       "/* Toggleable style: style used for estimator/Pipeline/ColumnTransformer box that is\n",
       "clickable and can be expanded/collapsed.\n",
       "- Pipeline and ColumnTransformer use this feature and define the default style\n",
       "- Estimators will overwrite some part of the style using the `sk-estimator` class\n",
       "*/\n",
       "\n",
       "/* Pipeline and ColumnTransformer style (default) */\n",
       "\n",
       "#sk-container-id-1 div.sk-toggleable {\n",
       "  /* Default theme specific background. It is overwritten whether we have a\n",
       "  specific estimator or a Pipeline/ColumnTransformer */\n",
       "  background-color: var(--sklearn-color-background);\n",
       "}\n",
       "\n",
       "/* Toggleable label */\n",
       "#sk-container-id-1 label.sk-toggleable__label {\n",
       "  cursor: pointer;\n",
       "  display: block;\n",
       "  width: 100%;\n",
       "  margin-bottom: 0;\n",
       "  padding: 0.5em;\n",
       "  box-sizing: border-box;\n",
       "  text-align: center;\n",
       "}\n",
       "\n",
       "#sk-container-id-1 label.sk-toggleable__label-arrow:before {\n",
       "  /* Arrow on the left of the label */\n",
       "  content: \"▸\";\n",
       "  float: left;\n",
       "  margin-right: 0.25em;\n",
       "  color: var(--sklearn-color-icon);\n",
       "}\n",
       "\n",
       "#sk-container-id-1 label.sk-toggleable__label-arrow:hover:before {\n",
       "  color: var(--sklearn-color-text);\n",
       "}\n",
       "\n",
       "/* Toggleable content - dropdown */\n",
       "\n",
       "#sk-container-id-1 div.sk-toggleable__content {\n",
       "  max-height: 0;\n",
       "  max-width: 0;\n",
       "  overflow: hidden;\n",
       "  text-align: left;\n",
       "  /* unfitted */\n",
       "  background-color: var(--sklearn-color-unfitted-level-0);\n",
       "}\n",
       "\n",
       "#sk-container-id-1 div.sk-toggleable__content.fitted {\n",
       "  /* fitted */\n",
       "  background-color: var(--sklearn-color-fitted-level-0);\n",
       "}\n",
       "\n",
       "#sk-container-id-1 div.sk-toggleable__content pre {\n",
       "  margin: 0.2em;\n",
       "  border-radius: 0.25em;\n",
       "  color: var(--sklearn-color-text);\n",
       "  /* unfitted */\n",
       "  background-color: var(--sklearn-color-unfitted-level-0);\n",
       "}\n",
       "\n",
       "#sk-container-id-1 div.sk-toggleable__content.fitted pre {\n",
       "  /* unfitted */\n",
       "  background-color: var(--sklearn-color-fitted-level-0);\n",
       "}\n",
       "\n",
       "#sk-container-id-1 input.sk-toggleable__control:checked~div.sk-toggleable__content {\n",
       "  /* Expand drop-down */\n",
       "  max-height: 200px;\n",
       "  max-width: 100%;\n",
       "  overflow: auto;\n",
       "}\n",
       "\n",
       "#sk-container-id-1 input.sk-toggleable__control:checked~label.sk-toggleable__label-arrow:before {\n",
       "  content: \"▾\";\n",
       "}\n",
       "\n",
       "/* Pipeline/ColumnTransformer-specific style */\n",
       "\n",
       "#sk-container-id-1 div.sk-label input.sk-toggleable__control:checked~label.sk-toggleable__label {\n",
       "  color: var(--sklearn-color-text);\n",
       "  background-color: var(--sklearn-color-unfitted-level-2);\n",
       "}\n",
       "\n",
       "#sk-container-id-1 div.sk-label.fitted input.sk-toggleable__control:checked~label.sk-toggleable__label {\n",
       "  background-color: var(--sklearn-color-fitted-level-2);\n",
       "}\n",
       "\n",
       "/* Estimator-specific style */\n",
       "\n",
       "/* Colorize estimator box */\n",
       "#sk-container-id-1 div.sk-estimator input.sk-toggleable__control:checked~label.sk-toggleable__label {\n",
       "  /* unfitted */\n",
       "  background-color: var(--sklearn-color-unfitted-level-2);\n",
       "}\n",
       "\n",
       "#sk-container-id-1 div.sk-estimator.fitted input.sk-toggleable__control:checked~label.sk-toggleable__label {\n",
       "  /* fitted */\n",
       "  background-color: var(--sklearn-color-fitted-level-2);\n",
       "}\n",
       "\n",
       "#sk-container-id-1 div.sk-label label.sk-toggleable__label,\n",
       "#sk-container-id-1 div.sk-label label {\n",
       "  /* The background is the default theme color */\n",
       "  color: var(--sklearn-color-text-on-default-background);\n",
       "}\n",
       "\n",
       "/* On hover, darken the color of the background */\n",
       "#sk-container-id-1 div.sk-label:hover label.sk-toggleable__label {\n",
       "  color: var(--sklearn-color-text);\n",
       "  background-color: var(--sklearn-color-unfitted-level-2);\n",
       "}\n",
       "\n",
       "/* Label box, darken color on hover, fitted */\n",
       "#sk-container-id-1 div.sk-label.fitted:hover label.sk-toggleable__label.fitted {\n",
       "  color: var(--sklearn-color-text);\n",
       "  background-color: var(--sklearn-color-fitted-level-2);\n",
       "}\n",
       "\n",
       "/* Estimator label */\n",
       "\n",
       "#sk-container-id-1 div.sk-label label {\n",
       "  font-family: monospace;\n",
       "  font-weight: bold;\n",
       "  display: inline-block;\n",
       "  line-height: 1.2em;\n",
       "}\n",
       "\n",
       "#sk-container-id-1 div.sk-label-container {\n",
       "  text-align: center;\n",
       "}\n",
       "\n",
       "/* Estimator-specific */\n",
       "#sk-container-id-1 div.sk-estimator {\n",
       "  font-family: monospace;\n",
       "  border: 1px dotted var(--sklearn-color-border-box);\n",
       "  border-radius: 0.25em;\n",
       "  box-sizing: border-box;\n",
       "  margin-bottom: 0.5em;\n",
       "  /* unfitted */\n",
       "  background-color: var(--sklearn-color-unfitted-level-0);\n",
       "}\n",
       "\n",
       "#sk-container-id-1 div.sk-estimator.fitted {\n",
       "  /* fitted */\n",
       "  background-color: var(--sklearn-color-fitted-level-0);\n",
       "}\n",
       "\n",
       "/* on hover */\n",
       "#sk-container-id-1 div.sk-estimator:hover {\n",
       "  /* unfitted */\n",
       "  background-color: var(--sklearn-color-unfitted-level-2);\n",
       "}\n",
       "\n",
       "#sk-container-id-1 div.sk-estimator.fitted:hover {\n",
       "  /* fitted */\n",
       "  background-color: var(--sklearn-color-fitted-level-2);\n",
       "}\n",
       "\n",
       "/* Specification for estimator info (e.g. \"i\" and \"?\") */\n",
       "\n",
       "/* Common style for \"i\" and \"?\" */\n",
       "\n",
       ".sk-estimator-doc-link,\n",
       "a:link.sk-estimator-doc-link,\n",
       "a:visited.sk-estimator-doc-link {\n",
       "  float: right;\n",
       "  font-size: smaller;\n",
       "  line-height: 1em;\n",
       "  font-family: monospace;\n",
       "  background-color: var(--sklearn-color-background);\n",
       "  border-radius: 1em;\n",
       "  height: 1em;\n",
       "  width: 1em;\n",
       "  text-decoration: none !important;\n",
       "  margin-left: 1ex;\n",
       "  /* unfitted */\n",
       "  border: var(--sklearn-color-unfitted-level-1) 1pt solid;\n",
       "  color: var(--sklearn-color-unfitted-level-1);\n",
       "}\n",
       "\n",
       ".sk-estimator-doc-link.fitted,\n",
       "a:link.sk-estimator-doc-link.fitted,\n",
       "a:visited.sk-estimator-doc-link.fitted {\n",
       "  /* fitted */\n",
       "  border: var(--sklearn-color-fitted-level-1) 1pt solid;\n",
       "  color: var(--sklearn-color-fitted-level-1);\n",
       "}\n",
       "\n",
       "/* On hover */\n",
       "div.sk-estimator:hover .sk-estimator-doc-link:hover,\n",
       ".sk-estimator-doc-link:hover,\n",
       "div.sk-label-container:hover .sk-estimator-doc-link:hover,\n",
       ".sk-estimator-doc-link:hover {\n",
       "  /* unfitted */\n",
       "  background-color: var(--sklearn-color-unfitted-level-3);\n",
       "  color: var(--sklearn-color-background);\n",
       "  text-decoration: none;\n",
       "}\n",
       "\n",
       "div.sk-estimator.fitted:hover .sk-estimator-doc-link.fitted:hover,\n",
       ".sk-estimator-doc-link.fitted:hover,\n",
       "div.sk-label-container:hover .sk-estimator-doc-link.fitted:hover,\n",
       ".sk-estimator-doc-link.fitted:hover {\n",
       "  /* fitted */\n",
       "  background-color: var(--sklearn-color-fitted-level-3);\n",
       "  color: var(--sklearn-color-background);\n",
       "  text-decoration: none;\n",
       "}\n",
       "\n",
       "/* Span, style for the box shown on hovering the info icon */\n",
       ".sk-estimator-doc-link span {\n",
       "  display: none;\n",
       "  z-index: 9999;\n",
       "  position: relative;\n",
       "  font-weight: normal;\n",
       "  right: .2ex;\n",
       "  padding: .5ex;\n",
       "  margin: .5ex;\n",
       "  width: min-content;\n",
       "  min-width: 20ex;\n",
       "  max-width: 50ex;\n",
       "  color: var(--sklearn-color-text);\n",
       "  box-shadow: 2pt 2pt 4pt #999;\n",
       "  /* unfitted */\n",
       "  background: var(--sklearn-color-unfitted-level-0);\n",
       "  border: .5pt solid var(--sklearn-color-unfitted-level-3);\n",
       "}\n",
       "\n",
       ".sk-estimator-doc-link.fitted span {\n",
       "  /* fitted */\n",
       "  background: var(--sklearn-color-fitted-level-0);\n",
       "  border: var(--sklearn-color-fitted-level-3);\n",
       "}\n",
       "\n",
       ".sk-estimator-doc-link:hover span {\n",
       "  display: block;\n",
       "}\n",
       "\n",
       "/* \"?\"-specific style due to the `<a>` HTML tag */\n",
       "\n",
       "#sk-container-id-1 a.estimator_doc_link {\n",
       "  float: right;\n",
       "  font-size: 1rem;\n",
       "  line-height: 1em;\n",
       "  font-family: monospace;\n",
       "  background-color: var(--sklearn-color-background);\n",
       "  border-radius: 1rem;\n",
       "  height: 1rem;\n",
       "  width: 1rem;\n",
       "  text-decoration: none;\n",
       "  /* unfitted */\n",
       "  color: var(--sklearn-color-unfitted-level-1);\n",
       "  border: var(--sklearn-color-unfitted-level-1) 1pt solid;\n",
       "}\n",
       "\n",
       "#sk-container-id-1 a.estimator_doc_link.fitted {\n",
       "  /* fitted */\n",
       "  border: var(--sklearn-color-fitted-level-1) 1pt solid;\n",
       "  color: var(--sklearn-color-fitted-level-1);\n",
       "}\n",
       "\n",
       "/* On hover */\n",
       "#sk-container-id-1 a.estimator_doc_link:hover {\n",
       "  /* unfitted */\n",
       "  background-color: var(--sklearn-color-unfitted-level-3);\n",
       "  color: var(--sklearn-color-background);\n",
       "  text-decoration: none;\n",
       "}\n",
       "\n",
       "#sk-container-id-1 a.estimator_doc_link.fitted:hover {\n",
       "  /* fitted */\n",
       "  background-color: var(--sklearn-color-fitted-level-3);\n",
       "}\n",
       "</style><div id=\"sk-container-id-1\" class=\"sk-top-container\"><div class=\"sk-text-repr-fallback\"><pre>RandomForestClassifier(random_state=42)</pre><b>In a Jupyter environment, please rerun this cell to show the HTML representation or trust the notebook. <br />On GitHub, the HTML representation is unable to render, please try loading this page with nbviewer.org.</b></div><div class=\"sk-container\" hidden><div class=\"sk-item\"><div class=\"sk-estimator fitted sk-toggleable\"><input class=\"sk-toggleable__control sk-hidden--visually\" id=\"sk-estimator-id-1\" type=\"checkbox\" checked><label for=\"sk-estimator-id-1\" class=\"sk-toggleable__label fitted sk-toggleable__label-arrow fitted\">&nbsp;&nbsp;RandomForestClassifier<a class=\"sk-estimator-doc-link fitted\" rel=\"noreferrer\" target=\"_blank\" href=\"https://scikit-learn.org/1.5/modules/generated/sklearn.ensemble.RandomForestClassifier.html\">?<span>Documentation for RandomForestClassifier</span></a><span class=\"sk-estimator-doc-link fitted\">i<span>Fitted</span></span></label><div class=\"sk-toggleable__content fitted\"><pre>RandomForestClassifier(random_state=42)</pre></div> </div></div></div></div>"
      ],
      "text/plain": [
       "RandomForestClassifier(random_state=42)"
      ]
     },
     "execution_count": 17,
     "metadata": {},
     "output_type": "execute_result"
    }
   ],
   "source": [
    "# Model Selection and Training using Random Forest\n",
    "model = RandomForestClassifier(n_estimators=100, random_state=42)\n",
    "model.fit(X_train, y_train)\n",
    "#n_estimators=100 specifies the number of trees in the forest.\n",
    "     "
   ]
  },
  {
   "cell_type": "code",
   "execution_count": 18,
   "id": "4af27ace-9008-4c1b-9563-34a57aab495a",
   "metadata": {},
   "outputs": [],
   "source": [
    "# Predictions\n",
    "y_pred = model.predict(X_test)\n",
    "#We use the trained model to make predictions on the test data (X_test) using the predict() method.\n",
    "     "
   ]
  },
  {
   "cell_type": "code",
   "execution_count": 19,
   "id": "15502607-eb0a-41bc-8271-7c18e91003c4",
   "metadata": {},
   "outputs": [
    {
     "name": "stdout",
     "output_type": "stream",
     "text": [
      "Classification Report:\n",
      "              precision    recall  f1-score   support\n",
      "\n",
      "           0       0.75      1.00      0.86         3\n",
      "           1       0.00      0.00      0.00         1\n",
      "\n",
      "    accuracy                           0.75         4\n",
      "   macro avg       0.38      0.50      0.43         4\n",
      "weighted avg       0.56      0.75      0.64         4\n",
      "\n",
      "\n",
      "Confusion Matrix:\n",
      "[[3 0]\n",
      " [1 0]]\n"
     ]
    },
    {
     "name": "stderr",
     "output_type": "stream",
     "text": [
      "C:\\Users\\LENOVO\\anaconda3\\Lib\\site-packages\\sklearn\\metrics\\_classification.py:1531: UndefinedMetricWarning: Precision is ill-defined and being set to 0.0 in labels with no predicted samples. Use `zero_division` parameter to control this behavior.\n",
      "  _warn_prf(average, modifier, f\"{metric.capitalize()} is\", len(result))\n",
      "C:\\Users\\LENOVO\\anaconda3\\Lib\\site-packages\\sklearn\\metrics\\_classification.py:1531: UndefinedMetricWarning: Precision is ill-defined and being set to 0.0 in labels with no predicted samples. Use `zero_division` parameter to control this behavior.\n",
      "  _warn_prf(average, modifier, f\"{metric.capitalize()} is\", len(result))\n",
      "C:\\Users\\LENOVO\\anaconda3\\Lib\\site-packages\\sklearn\\metrics\\_classification.py:1531: UndefinedMetricWarning: Precision is ill-defined and being set to 0.0 in labels with no predicted samples. Use `zero_division` parameter to control this behavior.\n",
      "  _warn_prf(average, modifier, f\"{metric.capitalize()} is\", len(result))\n"
     ]
    }
   ],
   "source": [
    "# Evaluation\n",
    "print(\"Classification Report:\")\n",
    "print(classification_report(y_test, y_pred))\n",
    "\n",
    "print(\"\\nConfusion Matrix:\")\n",
    "print(confusion_matrix(y_test, y_pred))"
   ]
  },
  {
   "cell_type": "markdown",
   "id": "f10f5770-eee6-40cb-9787-8b509f2f957b",
   "metadata": {},
   "source": [
    "# Real-time Monitoring and Alert Mechanisms:\r\n"
   ]
  },
  {
   "cell_type": "markdown",
   "id": "a96d098b-eca6-45d7-9334-1952f166b5d7",
   "metadata": {},
   "source": [
    "Real-time monitoring involves continuously analyzing incoming data for potential fraud. In this example, we use the trained Random Forest model to predict whether a transaction is fraudulent or not in real-time.\r\n",
    "\r\n"
   ]
  },
  {
   "cell_type": "markdown",
   "id": "2b60e0cc-0944-4d9c-ae9c-1131eef4e28f",
   "metadata": {},
   "source": [
    "**predict_fraud() Function:** This function takes transaction data as input and preprocesses it to make it compatible with the model. It then uses the trained model to predict whether the transaction is fraudulent or not. Finally, it returns the prediction.\r\n",
    "\r\n"
   ]
  },
  {
   "cell_type": "markdown",
   "id": "a94a6986-101e-44df-bc99-bf8aacc7ae88",
   "metadata": {},
   "source": [
    "I am creating an example transaction (new_transaction_data) and using the predict_fraud() function to predict if it's fraudulent or not. If the prediction is 1 (fraudulent), an alert is generated.\n",
    "\n"
   ]
  },
  {
   "cell_type": "code",
   "execution_count": 20,
   "id": "1a701206-9415-4d90-b052-90227a27aab6",
   "metadata": {},
   "outputs": [
    {
     "name": "stdout",
     "output_type": "stream",
     "text": [
      "Alert: Potential fraud detected!\n"
     ]
    }
   ],
   "source": [
    "# Real-time Monitoring and Alert Mechanisms\n",
    "def predict_fraud(transaction_data):\n",
    "    # Map 'Time_of_Day' to numerical values\n",
    "    transaction_data['Time_of_Day'] = transaction_data['Time_of_Day'].map(time_of_day_mapping)\n",
    "\n",
    "    # One-hot encode 'Location' column\n",
    "    transaction_data = pd.get_dummies(transaction_data, columns=['Location'])\n",
    "\n",
    "    # Add missing columns\n",
    "    missing_cols = set(X.columns) - set(transaction_data.columns)\n",
    "    for col in missing_cols:\n",
    "        transaction_data[col] = 0\n",
    "\n",
    "    # Calculate transaction frequency per customer\n",
    "    transaction_data['Transaction_Frequency'] = transaction_data.groupby('Customer_ID')['Transaction_Amount'].transform('count')\n",
    "\n",
    "    # Calculate average transaction amount per customer\n",
    "    transaction_data['Average_Transaction_Amount'] = transaction_data.groupby('Customer_ID')['Transaction_Amount'].transform('mean')\n",
    "\n",
    "    # Calculate total transaction amount per customer\n",
    "    transaction_data['Total_Transaction_Amount'] = transaction_data.groupby('Customer_ID')['Transaction_Amount'].transform('sum')\n",
    "\n",
    "    # Calculate transaction velocity\n",
    "    transaction_data['Transaction_Velocity'] = transaction_data['Transaction_Frequency'] / (transaction_data['Transaction_Amount'] + 1)\n",
    "\n",
    "    # Calculate transaction frequency to amount ratio\n",
    "    transaction_data['Transaction_Frequency_Amount_Ratio'] = transaction_data['Transaction_Frequency'] / (transaction_data['Transaction_Amount'] + 1)\n",
    "\n",
    "    # Make sure all columns from training data are present\n",
    "    missing_cols_train = set(X.columns) - set(transaction_data.columns)\n",
    "    for col in missing_cols_train:\n",
    "        transaction_data[col] = 0\n",
    "\n",
    "    # Predict using the trained model\n",
    "    prediction = model.predict(transaction_data[X.columns]) # Use only the columns used for training\n",
    "    return prediction\n",
    "\n",
    "# Example usage\n",
    "new_transaction_data = pd.DataFrame({\n",
    "    'Customer_ID': [121],\n",
    "    'Transaction_Amount': [1500],\n",
    "    'Time_of_Day': ['Morning'],\n",
    "    'Location': ['Mumbai']\n",
    "})\n",
    "\n",
    "prediction = predict_fraud(new_transaction_data)\n",
    "if prediction[0] == 1:\n",
    "    print(\"Alert: Potential fraud detected!\")\n",
    "else:\n",
    "    print(\"No fraud detected.\")"
   ]
  },
  {
   "cell_type": "markdown",
   "id": "ed784b40-54fb-40db-adf1-246073eb6cdc",
   "metadata": {},
   "source": [
    "# Model Evaluation and Deployment:\r\n"
   ]
  },
  {
   "cell_type": "markdown",
   "id": "b14cd0e7-f6e6-4e02-83d2-285d597180e5",
   "metadata": {},
   "source": [
    "Evaluate the performance of the fraud detection system using metrics such as precision, recall, and F1-score. Fine-tune the system based on evaluation results. Deploy the fraud detection system in a production environment, integrating it with existing banking systems\r\n",
    "\r\n"
   ]
  },
  {
   "cell_type": "code",
   "execution_count": 21,
   "id": "4255ddac-6c43-43cf-9b77-4b0612efe2c7",
   "metadata": {},
   "outputs": [
    {
     "name": "stdout",
     "output_type": "stream",
     "text": [
      "Classification Report:\n",
      "              precision    recall  f1-score   support\n",
      "\n",
      "           0       0.75      1.00      0.86         3\n",
      "           1       0.00      0.00      0.00         1\n",
      "\n",
      "    accuracy                           0.75         4\n",
      "   macro avg       0.38      0.50      0.43         4\n",
      "weighted avg       0.56      0.75      0.64         4\n",
      "\n",
      "\n",
      "Confusion Matrix:\n",
      "[[3 0]\n",
      " [1 0]]\n"
     ]
    },
    {
     "name": "stderr",
     "output_type": "stream",
     "text": [
      "C:\\Users\\LENOVO\\anaconda3\\Lib\\site-packages\\sklearn\\metrics\\_classification.py:1531: UndefinedMetricWarning: Precision is ill-defined and being set to 0.0 in labels with no predicted samples. Use `zero_division` parameter to control this behavior.\n",
      "  _warn_prf(average, modifier, f\"{metric.capitalize()} is\", len(result))\n",
      "C:\\Users\\LENOVO\\anaconda3\\Lib\\site-packages\\sklearn\\metrics\\_classification.py:1531: UndefinedMetricWarning: Precision is ill-defined and being set to 0.0 in labels with no predicted samples. Use `zero_division` parameter to control this behavior.\n",
      "  _warn_prf(average, modifier, f\"{metric.capitalize()} is\", len(result))\n",
      "C:\\Users\\LENOVO\\anaconda3\\Lib\\site-packages\\sklearn\\metrics\\_classification.py:1531: UndefinedMetricWarning: Precision is ill-defined and being set to 0.0 in labels with no predicted samples. Use `zero_division` parameter to control this behavior.\n",
      "  _warn_prf(average, modifier, f\"{metric.capitalize()} is\", len(result))\n"
     ]
    }
   ],
   "source": [
    "from sklearn.metrics import classification_report, confusion_matrix\n",
    "\n",
    "# Evaluation\n",
    "def evaluate_model(X_test, y_test):\n",
    "    y_pred = model.predict(X_test)\n",
    "    print(\"Classification Report:\")\n",
    "    print(classification_report(y_test, y_pred))\n",
    "    print(\"\\nConfusion Matrix:\")\n",
    "    print(confusion_matrix(y_test, y_pred))\n",
    "\n",
    "# Call the function to evaluate the model\n",
    "evaluate_model(X_test, y_test)\n",
    "     "
   ]
  },
  {
   "cell_type": "code",
   "execution_count": 24,
   "id": "e50153fc-ef02-40a0-9718-b2671a61bacd",
   "metadata": {},
   "outputs": [
    {
     "name": "stdout",
     "output_type": "stream",
     "text": [
      "No fraud detected.\n"
     ]
    }
   ],
   "source": [
    "import joblib\n",
    "\n",
    "# Save the model to disk\n",
    "joblib.dump(model, 'fraud_detection_model.joblib')\n",
    "\n",
    "# Load the model from disk\n",
    "loaded_model = joblib.load('fraud_detection_model.joblib')\n",
    "\n",
    "# Example usage of the deployed model\n",
    "def predict_fraud_deployed(transaction_data):\n",
    "    # Map 'Time_of_Day' to numerical values\n",
    "    transaction_data['Time_of_Day'] = transaction_data['Time_of_Day'].map(time_of_day_mapping)\n",
    "\n",
    "    # One-hot encode 'Location' column\n",
    "    transaction_data = pd.get_dummies(transaction_data, columns=['Location'])\n",
    "\n",
    "    # Add missing columns\n",
    "    missing_cols = set(X.columns) - set(transaction_data.columns)\n",
    "    for col in missing_cols:\n",
    "        transaction_data[col] = 0\n",
    "\n",
    "    # Calculate transaction frequency per customer\n",
    "    transaction_data['Transaction_Frequency'] = transaction_data.groupby('Customer_ID')['Transaction_Amount'].transform('count')\n",
    "\n",
    "    # Calculate average transaction amount per customer\n",
    "    transaction_data['Average_Transaction_Amount'] = transaction_data.groupby('Customer_ID')['Transaction_Amount'].transform('mean')\n",
    "\n",
    "    # Calculate total transaction amount per customer\n",
    "    transaction_data['Total_Transaction_Amount'] = transaction_data.groupby('Customer_ID')['Transaction_Amount'].transform('sum')\n",
    "\n",
    "    # Calculate transaction velocity\n",
    "    transaction_data['Transaction_Velocity'] = transaction_data['Transaction_Frequency'] / (transaction_data['Transaction_Amount'] + 1)\n",
    "\n",
    "    # Calculate transaction frequency to amount ratio\n",
    "    transaction_data['Transaction_Frequency_Amount_Ratio'] = transaction_data['Transaction_Frequency'] / (transaction_data['Transaction_Amount'] + 1)\n",
    "\n",
    "    # Make sure all columns from training data are present\n",
    "    missing_cols_train = set(X.columns) - set(transaction_data.columns)\n",
    "    for col in missing_cols_train:\n",
    "        transaction_data[col] = 0\n",
    "\n",
    "    # Predict using the trained model\n",
    "    prediction = loaded_model.predict(transaction_data[X.columns]) # Use only the columns used for training\n",
    "    return prediction\n",
    "\n",
    "# Example usage of the deployed model\n",
    "new_transaction_data = pd.DataFrame({\n",
    "    'Customer_ID': [221],\n",
    "    'Transaction_Amount': [1200],\n",
    "    'Time_of_Day': ['Morning'],\n",
    "    'Location': ['Delhi']\n",
    "})\n",
    "\n",
    "prediction = predict_fraud_deployed(new_transaction_data)\n",
    "if prediction[0] == 1:\n",
    "    print(\"Alert: Potential fraud detected!\")\n",
    "else:\n",
    "    print(\"No fraud detected.\")\n",
    "     "
   ]
  },
  {
   "cell_type": "markdown",
   "id": "2c20a4db-476b-4c58-9952-9f537c0b6bdc",
   "metadata": {},
   "source": [
    "# Conclusion\r\n"
   ]
  },
  {
   "cell_type": "markdown",
   "id": "874f2366-fde5-4da6-95a9-258044b58ef1",
   "metadata": {},
   "source": [
    "In this project, we successfully designed a fraud detection system for ABC Bank, utilizing transactional data to identify and flag suspicious activities in real-time. The primary goal was to reduce financial losses, uphold customer trust, and secure transaction integrity.\n",
    "\n"
   ]
  },
  {
   "cell_type": "markdown",
   "id": "c6ece7f1-56cb-44b4-bd5c-af0fdee95a76",
   "metadata": {},
   "source": [
    "# Key Achievements:\r\n"
   ]
  },
  {
   "cell_type": "markdown",
   "id": "a686002d-6b80-4f7e-8247-0af668c0d8b5",
   "metadata": {},
   "source": [
    "**Robust Fraud Detection System:** Employed machine learning techniques to create a robust system that effectively identifies potentially fraudulent transactions.\n",
    "\n",
    "**Real-Time Monitoring:** Implemented real-time monitoring and alert mechanisms to notify relevant personnel of suspicious transactions immediately. Seamless Integration: Integrated the fraud detection system with the bank's existing infrastructure to ensure smooth operation."
   ]
  },
  {
   "cell_type": "markdown",
   "id": "3561e540-4f92-473d-8fa1-117f5deb0642",
   "metadata": {},
   "source": [
    "# Key Components:\n"
   ]
  },
  {
   "cell_type": "markdown",
   "id": "f80481e3-c7df-4063-a622-ccb9892f7ef9",
   "metadata": {},
   "source": [
    "**Data Exploration and Preprocessing:** Conducted thorough analysis of transactional data, addressed missing values, and engineered features essential for fraud detection.losseslosses"
   ]
  },
  {
   "cell_type": "markdown",
   "id": "96ff0194-3c1a-4744-a1e9-a73b97b632c8",
   "metadata": {},
   "source": [
    "**Model Selection and Training:** Choose the Random Forest classifier for its robustness and ability to handle imbalanced data effectively. Real-Time Monitoring and Alerts: Developed a system to continuously monitor transactions and trigger alerts for potential fraud. Model Evaluation and Deployment: Assessed the model's performance using precision, recall, and F1-score metrics, and deployed the system into a production environment, ensuring seamless integration with the bank's systems."
   ]
  },
  {
   "cell_type": "markdown",
   "id": "f2f927c4-f3f8-4237-9af8-9fe337168f12",
   "metadata": {},
   "source": [
    "**Future Enhancements: Advanced Anomaly Detection:** Incorporate more sophisticated anomaly detection techniques to further improve accuracy. Reduce False Positives: Enhance real-time monitoring capabilities to minimize false positives."
   ]
  },
  {
   "cell_type": "markdown",
   "id": "56465dab-3f6c-4134-b18d-c9e93d38b6f8",
   "metadata": {},
   "source": [
    "**Continuous Improvement:** Implement feedback mechanisms to continually refine and enhance the system's performance. Overall, the developed fraud detection system equips ABC Bank with a reliable and efficient solution to combat fraudulent activities, thereby protecting the bank and its customers from financial losses"
   ]
  }
 ],
 "metadata": {
  "kernelspec": {
   "display_name": "Python 3 (ipykernel)",
   "language": "python",
   "name": "python3"
  },
  "language_info": {
   "codemirror_mode": {
    "name": "ipython",
    "version": 3
   },
   "file_extension": ".py",
   "mimetype": "text/x-python",
   "name": "python",
   "nbconvert_exporter": "python",
   "pygments_lexer": "ipython3",
   "version": "3.12.4"
  }
 },
 "nbformat": 4,
 "nbformat_minor": 5
}
